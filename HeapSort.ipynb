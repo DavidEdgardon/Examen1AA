{
  "nbformat": 4,
  "nbformat_minor": 0,
  "metadata": {
    "colab": {
      "name": "HeapSort.ipynb",
      "provenance": []
    },
    "kernelspec": {
      "name": "python3",
      "display_name": "Python 3"
    }
  },
  "cells": [
    {
      "cell_type": "code",
      "metadata": {
        "colab": {
          "base_uri": "https://localhost:8080/"
        },
        "id": "sZ1B9N__uUIB",
        "outputId": "2c4b3c30-af56-4e79-c190-396b56bfc627"
      },
      "source": [
        "def heapify(array, size, root_index):\n",
        "    largestNumber = root_index\n",
        "    left = (2 * root_index) + 1\n",
        "    right = (2 * root_index) + 2\n",
        "\n",
        "    if left < size and array[left] > array[largestNumber]:\n",
        "        largestNumber = left\n",
        "    if right < size and array[right] > array[largestNumber]:\n",
        "        largestNumber = right\n",
        "    if largestNumber != root_index:\n",
        "        array[root_index], array[largestNumber] = array[largestNumber], array[root_index]\n",
        "        heapify(array, size, largestNumber)\n",
        "\n",
        "def heapSort(array):\n",
        "    n = len(array)\n",
        "    for i in range(n, -1, -1):\n",
        "        heapify(array, n, i)\n",
        "    for i in range(n - 1, 0, -1):\n",
        "        array[i], array[0] = array[0], array[i]\n",
        "        heapify(array, i, 0)\n",
        "\n",
        "test = [2, 8, 5, 3, 9, 1, 12, 4, 20]\n",
        "heapSort(test)\n",
        "print(test)"
      ],
      "execution_count": 1,
      "outputs": [
        {
          "output_type": "stream",
          "text": [
            "[1, 2, 3, 4, 5, 8, 9, 12, 20]\n"
          ],
          "name": "stdout"
        }
      ]
    },
    {
      "cell_type": "markdown",
      "metadata": {
        "id": "eyNFQvB2uXWF"
      },
      "source": [
        "**Graficar los tiempos de ejecución de la solución.**"
      ]
    },
    {
      "cell_type": "code",
      "metadata": {
        "colab": {
          "base_uri": "https://localhost:8080/",
          "height": 638
        },
        "id": "HAzWm0LXuV9v",
        "outputId": "e4bef8b4-0801-4913-c130-763115b2a6f9"
      },
      "source": [
        "import matplotlib.pyplot as plt\n",
        "import numpy as np\n",
        "import time as t\n",
        "\n",
        "times = {}\n",
        "testArr = [2, 8, 5, 3, 9, 1, 12, 4, 20]\n",
        "\n",
        "def test(n):\n",
        "  start_time = t.time()\n",
        "  heapSort(testArr)\n",
        "  print(testArr)\n",
        "  times[n]= t.time() - start_time\n",
        "  print(\"--- %s seconds ---\" % (times[n]))\n",
        "\n",
        "def plot(times):\n",
        "  lists = sorted(times.items())\n",
        "  x, y = zip(*lists)\n",
        "  plt.plot(x, y)\n",
        "  plt.show()\n",
        "  print(times)\n",
        "\n",
        "for i in range(10):\n",
        "  test(i)\n",
        "\n",
        "plot(times)"
      ],
      "execution_count": null,
      "outputs": [
        {
          "output_type": "stream",
          "text": [
            "[1, 2, 3, 4, 5, 8, 9, 12, 20]\n",
            "--- 0.00010395050048828125 seconds ---\n",
            "[1, 2, 3, 4, 5, 8, 9, 12, 20]\n",
            "--- 5.793571472167969e-05 seconds ---\n",
            "[1, 2, 3, 4, 5, 8, 9, 12, 20]\n",
            "--- 5.1975250244140625e-05 seconds ---\n",
            "[1, 2, 3, 4, 5, 8, 9, 12, 20]\n",
            "--- 6.008148193359375e-05 seconds ---\n",
            "[1, 2, 3, 4, 5, 8, 9, 12, 20]\n",
            "--- 5.14984130859375e-05 seconds ---\n",
            "[1, 2, 3, 4, 5, 8, 9, 12, 20]\n",
            "--- 4.863739013671875e-05 seconds ---\n",
            "[1, 2, 3, 4, 5, 8, 9, 12, 20]\n",
            "--- 5.0067901611328125e-05 seconds ---\n",
            "[1, 2, 3, 4, 5, 8, 9, 12, 20]\n",
            "--- 4.8160552978515625e-05 seconds ---\n",
            "[1, 2, 3, 4, 5, 8, 9, 12, 20]\n",
            "--- 6.723403930664062e-05 seconds ---\n",
            "[1, 2, 3, 4, 5, 8, 9, 12, 20]\n",
            "--- 4.935264587402344e-05 seconds ---\n"
          ],
          "name": "stdout"
        },
        {
          "output_type": "display_data",
          "data": {
            "image/png": "[encoded data removed]",
            "text/plain": [
              "<Figure size 432x288 with 1 Axes>"
            ]
          },
          "metadata": {
            "tags": [],
            "needs_background": "light"
          }
        },
        {
          "output_type": "stream",
          "text": [
            "{0: 0.00010395050048828125, 1: 5.793571472167969e-05, 2: 5.1975250244140625e-05, 3: 6.008148193359375e-05, 4: 5.14984130859375e-05, 5: 4.863739013671875e-05, 6: 5.0067901611328125e-05, 7: 4.8160552978515625e-05, 8: 6.723403930664062e-05, 9: 4.935264587402344e-05}\n"
          ],
          "name": "stdout"
        }
      ]
    },
    {
      "cell_type": "markdown",
      "metadata": {
        "id": "gKSjmuYJubSc"
      },
      "source": [
        "**Análisis de complejidad**\n",
        "\n",
        "**T(n) = a*T(n/b) + f(n)**\n",
        "\n",
        "Heapify\n",
        "\n",
        "a=1, b=2, f(n) = Θ(0), d=0\n",
        "\n",
        "T(n) = 1*T(n/2) + Θ(0)\n",
        "\n",
        "La función heapify (depende de la altura del arbol) atraviesa ese árbol en tiempo **Θ(log(n))**. \n",
        "\n",
        "La función heap_sort itera sobre la matriz n veces. Por lo tanto, la complejidad de tiempo total del algoritmo de clasificación de montón\n",
        "\n",
        "Caso 1:\n",
        "\n",
        "**Θ(nlog(n))**"
      ]
    },
    {
      "cell_type": "markdown",
      "metadata": {
        "id": "8ptYJRRYuc4C"
      },
      "source": [
        "**Analisis Cualitativo**\n",
        "\n",
        "\n",
        "El algoritmo, en su implementacion que tiene 2 fases, la primera hace una construccion de un monticulo a partir del conjunto de elementos de entrada y despues una fase de extraccion sucesiva de la cima del monticulo. La cima contiene siempre el menor elemento de todos almacenados en el. El algoritmo despues de cada extraccion, recoloca en la raiz, la ultima hoja de la derecha, lo cual destruye la propiedad heap del arbol. Pero luego realiza el proceso de bajar el numero insertado de forma que se elige a cada movimiento el mayor de sus 2 hijos con el que se intercambia y asi sucesivamente hasta que el \"arbol\" queda ordenado."
      ]
    }
  ]
}