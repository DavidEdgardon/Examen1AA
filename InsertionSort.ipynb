{
  "nbformat": 4,
  "nbformat_minor": 0,
  "metadata": {
    "colab": {
      "name": "InsertionSort.ipynb",
      "provenance": []
    },
    "kernelspec": {
      "name": "python3",
      "display_name": "Python 3"
    }
  },
  "cells": [
    {
      "cell_type": "code",
      "metadata": {
        "colab": {
          "base_uri": "https://localhost:8080/"
        },
        "id": "xaT4ZVXka4Tk",
        "outputId": "1172fbc5-0cce-48cc-e30c-83318e10fbca"
      },
      "source": [
        "from random import seed\n",
        "from random import randint\n",
        "import numpy as np\n",
        "\n",
        "def insertion_sort(cant):\n",
        "    listaDesordenada = [] #c\n",
        "    seed(1) #c\n",
        "    for _ in range(cant): #n\n",
        "      listaDesordenada = np.append(listaDesordenada, randint(0,50)) #c\n",
        "    veces = 0 #c\n",
        "    for i in range(len(listaDesordenada)): #n\n",
        "        for j in range(i,0,-1): #n\n",
        "            veces+=1 #c\n",
        "            if listaDesordenada[j] < listaDesordenada[j-1]: #c\n",
        "                listaDesordenada[j], listaDesordenada[j-1] = listaDesordenada[j-1], listaDesordenada[j] #c\n",
        "            else: #c\n",
        "              break\n",
        "    print(listaDesordenada) #c\n",
        "    return veces  #c\n",
        "\n",
        "insertion_sort(10);"
      ],
      "execution_count": null,
      "outputs": [
        {
          "output_type": "stream",
          "text": [
            "[ 4.  7.  8. 16. 28. 30. 31. 36. 48. 48.]\n"
          ],
          "name": "stdout"
        }
      ]
    },
    {
      "cell_type": "markdown",
      "metadata": {
        "id": "JtahqO8EejVK"
      },
      "source": [
        "**Graficar los tiempos de ejecución de la solución.**"
      ]
    },
    {
      "cell_type": "code",
      "metadata": {
        "colab": {
          "base_uri": "https://localhost:8080/",
          "height": 807
        },
        "id": "S7a7DhyyduyV",
        "outputId": "76dbd2a7-077f-4823-a824-677725d4ff9e"
      },
      "source": [
        "import matplotlib.pyplot as plt\n",
        "import numpy as np\n",
        "import time as t\n",
        "\n",
        "times = {}\n",
        "\n",
        "def test(n):\n",
        "  start_time = t.time()\n",
        "  print(insertion_sort(n))\n",
        "  times[n]= t.time() - start_time\n",
        "  print(\"--- %s seconds ---\" % (times[n]))\n",
        "\n",
        "def plot(times):\n",
        "  lists = sorted(times.items())\n",
        "  x, y = zip(*lists)\n",
        "  plt.plot(x, y)\n",
        "  plt.show()\n",
        "  print(times)\n",
        "\n",
        "for i in range(10):\n",
        "  test(i)\n",
        "\n",
        "plot(times)"
      ],
      "execution_count": null,
      "outputs": [
        {
          "output_type": "stream",
          "text": [
            "[]\n",
            "0\n",
            "--- 0.00011014938354492188 seconds ---\n",
            "[8.]\n",
            "0\n",
            "--- 0.00040602684020996094 seconds ---\n",
            "[ 8. 36.]\n",
            "1\n",
            "--- 0.00033020973205566406 seconds ---\n",
            "[ 8. 36. 48.]\n",
            "2\n",
            "--- 0.0003478527069091797 seconds ---\n",
            "[ 4.  8. 36. 48.]\n",
            "5\n",
            "--- 0.002568483352661133 seconds ---\n",
            "[ 4.  8. 16. 36. 48.]\n",
            "8\n",
            "--- 0.0005035400390625 seconds ---\n",
            "[ 4.  7.  8. 16. 36. 48.]\n",
            "13\n",
            "--- 0.0031926631927490234 seconds ---\n",
            "[ 4.  7.  8. 16. 31. 36. 48.]\n",
            "16\n",
            "--- 0.0033867359161376953 seconds ---\n",
            "[ 4.  7.  8. 16. 31. 36. 48. 48.]\n",
            "17\n",
            "--- 0.0005154609680175781 seconds ---\n",
            "[ 4.  7.  8. 16. 28. 31. 36. 48. 48.]\n",
            "22\n",
            "--- 0.0005726814270019531 seconds ---\n"
          ],
          "name": "stdout"
        },
        {
          "output_type": "display_data",
          "data": {
            "image/png": "[encoded data removed]",
            "text/plain": [
              "<Figure size 432x288 with 1 Axes>"
            ]
          },
          "metadata": {
            "tags": [],
            "needs_background": "light"
          }
        },
        {
          "output_type": "stream",
          "text": [
            "{0: 0.00011014938354492188, 1: 0.00040602684020996094, 2: 0.00033020973205566406, 3: 0.0003478527069091797, 4: 0.002568483352661133, 5: 0.0005035400390625, 6: 0.0031926631927490234, 7: 0.0033867359161376953, 8: 0.0005154609680175781, 9: 0.0005726814270019531}\n"
          ],
          "name": "stdout"
        }
      ]
    },
    {
      "cell_type": "markdown",
      "metadata": {
        "id": "_1617O6Jec1e"
      },
      "source": [
        "**Análisis de complejidad**\n",
        "\n",
        "\n",
        "T(n) = C1 + (O(n) * C2) + C3 + (O(n)  * (O(m) * C4)) + C5\n",
        "\n",
        "\n"
      ]
    },
    {
      "cell_type": "markdown",
      "metadata": {
        "id": "6ZYUBLSUeVQE"
      },
      "source": [
        "**Analisis Cualitativo**\n",
        "\n",
        "El ordenamiento por insercion es un algoritmo muy comun a la hora de realizar un ordenamiento. Este ordenamiento requiere Θ(n^2) para ordenar una lista de n elementos. Este algoritmo suele realizar un pasada y va evaluando el numero obtenido con todos los anterior que estan a su izquierda para decidir donde tiene que colocarse. El ordenamiento por insercion puede tener una menor complejidad en caso que el arreglo este semi ordenado y que no se tenga que realizar muchos movimientos o ninguno, lo cual haria que su complejidad pasara a Θ(n)."
      ]
    }
  ]
}