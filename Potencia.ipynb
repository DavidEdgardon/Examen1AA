{
  "nbformat": 4,
  "nbformat_minor": 0,
  "metadata": {
    "colab": {
      "name": "Potencia.ipynb",
      "provenance": []
    },
    "kernelspec": {
      "name": "python3",
      "display_name": "Python 3"
    }
  },
  "cells": [
    {
      "cell_type": "markdown",
      "metadata": {
        "id": "FAM5iXyoNNjT"
      },
      "source": [
        "Iterativo"
      ]
    },
    {
      "cell_type": "code",
      "metadata": {
        "colab": {
          "base_uri": "https://localhost:8080/"
        },
        "id": "4aqNlC51NNIz",
        "outputId": "13405204-7e5a-43b4-f354-254e4e8a8025"
      },
      "source": [
        "import math\n",
        "\n",
        "def potencyIte(base, exponent):\n",
        "  iteration =1\n",
        "  if exponent == 0:\n",
        "    return 1\n",
        "  else:\n",
        "    result = base\n",
        "    for i in range(exponent-1):\n",
        "      iteration +=1\n",
        "      result *= base\n",
        "    return result\n",
        "\n",
        "potencyIte(5,11)"
      ],
      "execution_count": null,
      "outputs": [
        {
          "output_type": "execute_result",
          "data": {
            "text/plain": [
              "48828125"
            ]
          },
          "metadata": {
            "tags": []
          },
          "execution_count": 6
        }
      ]
    },
    {
      "cell_type": "markdown",
      "metadata": {
        "id": "6uXF0np4NKAQ"
      },
      "source": [
        "Divide y Venceras"
      ]
    },
    {
      "cell_type": "code",
      "metadata": {
        "id": "_kCC9A_1-dy3",
        "colab": {
          "base_uri": "https://localhost:8080/"
        },
        "outputId": "6ed084ec-cee9-4662-e65d-294d92d284ed"
      },
      "source": [
        "import math\n",
        "\n",
        "def potency(base, exponent):\n",
        "  if exponent == 0:\n",
        "    return 1\n",
        "  elif exponent == 1:\n",
        "    return base\n",
        "  else:\n",
        "    result = potency(base, math.floor(exponent / 2))\n",
        "    print(result)\n",
        "    result = result * result\n",
        "    print(result)\n",
        "    if exponent % 2 == 1:\n",
        "      result  = result * base\n",
        "    \n",
        "    return result\n",
        "\n",
        "potency(5,11)"
      ],
      "execution_count": null,
      "outputs": [
        {
          "output_type": "stream",
          "text": [
            "5\n",
            "25\n",
            "25\n",
            "625\n",
            "3125\n",
            "9765625\n"
          ],
          "name": "stdout"
        },
        {
          "output_type": "execute_result",
          "data": {
            "text/plain": [
              "48828125"
            ]
          },
          "metadata": {
            "tags": []
          },
          "execution_count": 16
        }
      ]
    },
    {
      "cell_type": "markdown",
      "metadata": {
        "id": "F-DdHUFr-hqg"
      },
      "source": [
        "**Graficar los tiempos de ejecución de la solución.**"
      ]
    },
    {
      "cell_type": "code",
      "metadata": {
        "id": "Te8WMwZD-iOz",
        "colab": {
          "base_uri": "https://localhost:8080/",
          "height": 1000
        },
        "outputId": "d9231695-d7fa-4fe3-8e5a-bd65efa61c10"
      },
      "source": [
        "import matplotlib.pyplot as plt\n",
        "import numpy as np\n",
        "import time as t\n",
        "\n",
        "times = {}\n",
        "\n",
        "def test(base, exponent):\n",
        "  start_time = t.time()\n",
        "  for i in range(exponent):\n",
        "      print(potency(base,i+1))\n",
        "      times[i]= t.time() - start_time\n",
        "      print(\"--- %s seconds ---\" % (times[i]))\n",
        "\n",
        "def plot(times):\n",
        "  lists = sorted(times.items())\n",
        "  x, y = zip(*lists)\n",
        "  plt.plot(x, y)\n",
        "  plt.show()\n",
        "  print(times)\n",
        "\n",
        "\n",
        "test(5,11)\n",
        "plot(times)"
      ],
      "execution_count": null,
      "outputs": [
        {
          "output_type": "stream",
          "text": [
            "5\n",
            "--- 8.821487426757812e-05 seconds ---\n",
            "5\n",
            "25\n",
            "25\n",
            "--- 0.0002148151397705078 seconds ---\n",
            "5\n",
            "25\n",
            "125\n",
            "--- 0.0003001689910888672 seconds ---\n",
            "5\n",
            "25\n",
            "25\n",
            "625\n",
            "625\n",
            "--- 0.0004143714904785156 seconds ---\n",
            "5\n",
            "25\n",
            "25\n",
            "625\n",
            "3125\n",
            "--- 0.0005669593811035156 seconds ---\n",
            "5\n",
            "25\n",
            "125\n",
            "15625\n",
            "15625\n",
            "--- 0.0006847381591796875 seconds ---\n",
            "5\n",
            "25\n",
            "125\n",
            "15625\n",
            "78125\n",
            "--- 0.0008077621459960938 seconds ---\n",
            "5\n",
            "25\n",
            "25\n",
            "625\n",
            "625\n",
            "390625\n",
            "390625\n",
            "--- 0.0009701251983642578 seconds ---\n",
            "5\n",
            "25\n",
            "25\n",
            "625\n",
            "625\n",
            "390625\n",
            "1953125\n",
            "--- 0.0011396408081054688 seconds ---\n",
            "5\n",
            "25\n",
            "25\n",
            "625\n",
            "3125\n",
            "9765625\n",
            "9765625\n",
            "--- 0.0012993812561035156 seconds ---\n",
            "5\n",
            "25\n",
            "25\n",
            "625\n",
            "3125\n",
            "9765625\n",
            "48828125\n",
            "--- 0.0021257400512695312 seconds ---\n"
          ],
          "name": "stdout"
        },
        {
          "output_type": "display_data",
          "data": {
            "image/png": "[encoded data removed]",
            "text/plain": [
              "<Figure size 432x288 with 1 Axes>"
            ]
          },
          "metadata": {
            "tags": [],
            "needs_background": "light"
          }
        },
        {
          "output_type": "stream",
          "text": [
            "{0: 8.821487426757812e-05, 1: 0.0002148151397705078, 2: 0.0003001689910888672, 3: 0.0004143714904785156, 4: 0.0005669593811035156, 5: 0.0006847381591796875, 6: 0.0008077621459960938, 7: 0.0009701251983642578, 8: 0.0011396408081054688, 9: 0.0012993812561035156, 10: 0.0021257400512695312}\n"
          ],
          "name": "stdout"
        }
      ]
    },
    {
      "cell_type": "markdown",
      "metadata": {
        "id": "1y7vgA7v-iyk"
      },
      "source": [
        "**Análisis de complejidad**\n",
        "\n",
        "**T(n) = a*T(n/b) + f(n)**\n",
        "\n",
        "a = 1\n",
        "\n",
        "b = 2\n",
        "\n",
        "d = 0(1)\n",
        "\n",
        "Caso 1:\n",
        "\n",
        "T(n) = 1*T(n/2) + f(n^0)\n",
        "\n",
        "**Θ(log(n))**"
      ]
    },
    {
      "cell_type": "markdown",
      "metadata": {
        "id": "Z3naI5K2-inn"
      },
      "source": [
        "**Analisis Cualitativo**\n",
        "\n",
        "5^11 = 5^5 * 5^5 * 5\n",
        "\n",
        "5^5 = 5^2 * 5^2 * 5\n",
        "\n",
        "5^2 = 5*1 * 5^1\n",
        "\n",
        "5^1 = 5\n",
        "\n",
        "Este algoritmo se desarrollo con la estrategia de divide y venceras, para poder mejorar la complejidad del algoritmo y el tiempo de ejecucion del mismo, ya que en el algoritmo se almacena los resultados de las multiplicaciones para ahorrar tiempo de ejecucion y no tenga que volver a realizar la misma multiplicacion otra vez y luego se llama a la recursiva para resolver la siguiente \"incognita\" multiplicacion y asi hasta que el exponente sea 1."
      ]
    }
  ]
}